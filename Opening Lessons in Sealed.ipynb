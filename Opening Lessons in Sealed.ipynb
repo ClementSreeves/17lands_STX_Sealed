{
 "cells": [
  {
   "cell_type": "code",
   "execution_count": 1,
   "metadata": {},
   "outputs": [],
   "source": [
    "import numpy as np\n",
    "import pandas as pd\n",
    "import matplotlib.pyplot as plt "
   ]
  },
  {
   "cell_type": "code",
   "execution_count": 2,
   "metadata": {},
   "outputs": [],
   "source": [
    "import requests\n",
    "import time"
   ]
  },
  {
   "cell_type": "code",
   "execution_count": 3,
   "metadata": {},
   "outputs": [
    {
     "data": {
      "text/plain": [
       "(49381, 1388)"
      ]
     },
     "execution_count": 3,
     "metadata": {},
     "output_type": "execute_result"
    }
   ],
   "source": [
    "raw_data = pd.read_csv(\"game_data_public.STX.Sealed.csv\")\n",
    "raw_data.shape"
   ]
  },
  {
   "cell_type": "code",
   "execution_count": 4,
   "metadata": {},
   "outputs": [
    {
     "data": {
      "text/html": [
       "<div>\n",
       "<style scoped>\n",
       "    .dataframe tbody tr th:only-of-type {\n",
       "        vertical-align: middle;\n",
       "    }\n",
       "\n",
       "    .dataframe tbody tr th {\n",
       "        vertical-align: top;\n",
       "    }\n",
       "\n",
       "    .dataframe thead th {\n",
       "        text-align: right;\n",
       "    }\n",
       "</style>\n",
       "<table border=\"1\" class=\"dataframe\">\n",
       "  <thead>\n",
       "    <tr style=\"text-align: right;\">\n",
       "      <th></th>\n",
       "      <th>user_win_rate_bucket</th>\n",
       "      <th>user_n_games_bucket</th>\n",
       "      <th>draft_id</th>\n",
       "      <th>build_index</th>\n",
       "      <th>draft_time</th>\n",
       "      <th>expansion</th>\n",
       "      <th>event_type</th>\n",
       "      <th>game_number</th>\n",
       "      <th>rank</th>\n",
       "      <th>opp_rank</th>\n",
       "      <th>...</th>\n",
       "      <th>sideboard_Waterfall Aerialist</th>\n",
       "      <th>sideboard_Weather the Storm</th>\n",
       "      <th>sideboard_Whirlwind Denial</th>\n",
       "      <th>sideboard_Witherbloom Apprentice</th>\n",
       "      <th>sideboard_Witherbloom Campus</th>\n",
       "      <th>sideboard_Witherbloom Command</th>\n",
       "      <th>sideboard_Witherbloom Pledgemage</th>\n",
       "      <th>sideboard_Wormhole Serpent</th>\n",
       "      <th>sideboard_Zephyr Boots</th>\n",
       "      <th>sideboard_Zimone, Quandrix Prodigy</th>\n",
       "    </tr>\n",
       "  </thead>\n",
       "  <tbody>\n",
       "    <tr>\n",
       "      <th>0</th>\n",
       "      <td>0.00</td>\n",
       "      <td>1</td>\n",
       "      <td>19d851c33013406ab24112ced986b1b9</td>\n",
       "      <td>0</td>\n",
       "      <td>2021-04-20 06:33:09</td>\n",
       "      <td>STX</td>\n",
       "      <td>Sealed</td>\n",
       "      <td>1</td>\n",
       "      <td>NaN</td>\n",
       "      <td>NaN</td>\n",
       "      <td>...</td>\n",
       "      <td>0</td>\n",
       "      <td>0</td>\n",
       "      <td>0</td>\n",
       "      <td>0</td>\n",
       "      <td>3</td>\n",
       "      <td>0</td>\n",
       "      <td>1</td>\n",
       "      <td>0</td>\n",
       "      <td>0</td>\n",
       "      <td>0</td>\n",
       "    </tr>\n",
       "    <tr>\n",
       "      <th>1</th>\n",
       "      <td>0.00</td>\n",
       "      <td>1</td>\n",
       "      <td>19d851c33013406ab24112ced986b1b9</td>\n",
       "      <td>0</td>\n",
       "      <td>2021-04-20 06:33:09</td>\n",
       "      <td>STX</td>\n",
       "      <td>Sealed</td>\n",
       "      <td>1</td>\n",
       "      <td>NaN</td>\n",
       "      <td>NaN</td>\n",
       "      <td>...</td>\n",
       "      <td>0</td>\n",
       "      <td>0</td>\n",
       "      <td>0</td>\n",
       "      <td>0</td>\n",
       "      <td>3</td>\n",
       "      <td>0</td>\n",
       "      <td>1</td>\n",
       "      <td>0</td>\n",
       "      <td>0</td>\n",
       "      <td>0</td>\n",
       "    </tr>\n",
       "    <tr>\n",
       "      <th>2</th>\n",
       "      <td>0.62</td>\n",
       "      <td>5</td>\n",
       "      <td>17444d2b6e764adaa0786a9a1c792b7e</td>\n",
       "      <td>0</td>\n",
       "      <td>2021-04-15 15:47:47</td>\n",
       "      <td>STX</td>\n",
       "      <td>Sealed</td>\n",
       "      <td>1</td>\n",
       "      <td>NaN</td>\n",
       "      <td>NaN</td>\n",
       "      <td>...</td>\n",
       "      <td>0</td>\n",
       "      <td>0</td>\n",
       "      <td>0</td>\n",
       "      <td>0</td>\n",
       "      <td>0</td>\n",
       "      <td>0</td>\n",
       "      <td>1</td>\n",
       "      <td>1</td>\n",
       "      <td>0</td>\n",
       "      <td>1</td>\n",
       "    </tr>\n",
       "    <tr>\n",
       "      <th>3</th>\n",
       "      <td>0.62</td>\n",
       "      <td>5</td>\n",
       "      <td>17444d2b6e764adaa0786a9a1c792b7e</td>\n",
       "      <td>0</td>\n",
       "      <td>2021-04-15 15:47:47</td>\n",
       "      <td>STX</td>\n",
       "      <td>Sealed</td>\n",
       "      <td>1</td>\n",
       "      <td>NaN</td>\n",
       "      <td>NaN</td>\n",
       "      <td>...</td>\n",
       "      <td>0</td>\n",
       "      <td>0</td>\n",
       "      <td>0</td>\n",
       "      <td>0</td>\n",
       "      <td>0</td>\n",
       "      <td>0</td>\n",
       "      <td>1</td>\n",
       "      <td>1</td>\n",
       "      <td>0</td>\n",
       "      <td>1</td>\n",
       "    </tr>\n",
       "    <tr>\n",
       "      <th>4</th>\n",
       "      <td>0.62</td>\n",
       "      <td>5</td>\n",
       "      <td>17444d2b6e764adaa0786a9a1c792b7e</td>\n",
       "      <td>0</td>\n",
       "      <td>2021-04-15 15:47:47</td>\n",
       "      <td>STX</td>\n",
       "      <td>Sealed</td>\n",
       "      <td>1</td>\n",
       "      <td>NaN</td>\n",
       "      <td>NaN</td>\n",
       "      <td>...</td>\n",
       "      <td>0</td>\n",
       "      <td>0</td>\n",
       "      <td>0</td>\n",
       "      <td>0</td>\n",
       "      <td>0</td>\n",
       "      <td>0</td>\n",
       "      <td>1</td>\n",
       "      <td>1</td>\n",
       "      <td>0</td>\n",
       "      <td>1</td>\n",
       "    </tr>\n",
       "  </tbody>\n",
       "</table>\n",
       "<p>5 rows × 1388 columns</p>\n",
       "</div>"
      ],
      "text/plain": [
       "   user_win_rate_bucket  user_n_games_bucket  \\\n",
       "0                  0.00                    1   \n",
       "1                  0.00                    1   \n",
       "2                  0.62                    5   \n",
       "3                  0.62                    5   \n",
       "4                  0.62                    5   \n",
       "\n",
       "                           draft_id  build_index           draft_time  \\\n",
       "0  19d851c33013406ab24112ced986b1b9            0  2021-04-20 06:33:09   \n",
       "1  19d851c33013406ab24112ced986b1b9            0  2021-04-20 06:33:09   \n",
       "2  17444d2b6e764adaa0786a9a1c792b7e            0  2021-04-15 15:47:47   \n",
       "3  17444d2b6e764adaa0786a9a1c792b7e            0  2021-04-15 15:47:47   \n",
       "4  17444d2b6e764adaa0786a9a1c792b7e            0  2021-04-15 15:47:47   \n",
       "\n",
       "  expansion event_type  game_number  rank  opp_rank  \\\n",
       "0       STX     Sealed            1   NaN       NaN   \n",
       "1       STX     Sealed            1   NaN       NaN   \n",
       "2       STX     Sealed            1   NaN       NaN   \n",
       "3       STX     Sealed            1   NaN       NaN   \n",
       "4       STX     Sealed            1   NaN       NaN   \n",
       "\n",
       "                  ...                  sideboard_Waterfall Aerialist  \\\n",
       "0                 ...                                              0   \n",
       "1                 ...                                              0   \n",
       "2                 ...                                              0   \n",
       "3                 ...                                              0   \n",
       "4                 ...                                              0   \n",
       "\n",
       "   sideboard_Weather the Storm  sideboard_Whirlwind Denial  \\\n",
       "0                            0                           0   \n",
       "1                            0                           0   \n",
       "2                            0                           0   \n",
       "3                            0                           0   \n",
       "4                            0                           0   \n",
       "\n",
       "  sideboard_Witherbloom Apprentice  sideboard_Witherbloom Campus  \\\n",
       "0                                0                             3   \n",
       "1                                0                             3   \n",
       "2                                0                             0   \n",
       "3                                0                             0   \n",
       "4                                0                             0   \n",
       "\n",
       "   sideboard_Witherbloom Command  sideboard_Witherbloom Pledgemage  \\\n",
       "0                              0                                 1   \n",
       "1                              0                                 1   \n",
       "2                              0                                 1   \n",
       "3                              0                                 1   \n",
       "4                              0                                 1   \n",
       "\n",
       "   sideboard_Wormhole Serpent  sideboard_Zephyr Boots  \\\n",
       "0                           0                       0   \n",
       "1                           0                       0   \n",
       "2                           1                       0   \n",
       "3                           1                       0   \n",
       "4                           1                       0   \n",
       "\n",
       "   sideboard_Zimone, Quandrix Prodigy  \n",
       "0                                   0  \n",
       "1                                   0  \n",
       "2                                   1  \n",
       "3                                   1  \n",
       "4                                   1  \n",
       "\n",
       "[5 rows x 1388 columns]"
      ]
     },
     "execution_count": 4,
     "metadata": {},
     "output_type": "execute_result"
    }
   ],
   "source": [
    "raw_data.head()"
   ]
  },
  {
   "cell_type": "code",
   "execution_count": 5,
   "metadata": {},
   "outputs": [
    {
     "data": {
      "text/plain": [
       "Index(['user_win_rate_bucket', 'user_n_games_bucket', 'draft_id',\n",
       "       'build_index', 'draft_time', 'expansion', 'event_type', 'game_number',\n",
       "       'rank', 'opp_rank', 'on_play', 'num_mulligans', 'opp_num_mulligans',\n",
       "       'opp_colors', 'num_turns', 'won', 'opening_hand_Abundant Harvest',\n",
       "       'opening_hand_Academic Dispute', 'opening_hand_Academic Probation',\n",
       "       'opening_hand_Access Tunnel'],\n",
       "      dtype='object')"
      ]
     },
     "execution_count": 5,
     "metadata": {},
     "output_type": "execute_result"
    }
   ],
   "source": [
    "raw_data.columns[:20]"
   ]
  },
  {
   "cell_type": "code",
   "execution_count": 6,
   "metadata": {},
   "outputs": [
    {
     "data": {
      "text/plain": [
       "['Witherbloom Command',\n",
       " 'Witherbloom Pledgemage',\n",
       " 'Wormhole Serpent',\n",
       " 'Zephyr Boots',\n",
       " 'Zimone, Quandrix Prodigy']"
      ]
     },
     "execution_count": 6,
     "metadata": {},
     "output_type": "execute_result"
    }
   ],
   "source": [
    "card_names = [col_name.replace('deck_', '') for col_name in raw_data.columns if col_name.startswith('deck_')]\n",
    "card_names[-5:]"
   ]
  },
  {
   "cell_type": "code",
   "execution_count": 7,
   "metadata": {},
   "outputs": [
    {
     "data": {
      "text/plain": [
       "343"
      ]
     },
     "execution_count": 7,
     "metadata": {},
     "output_type": "execute_result"
    }
   ],
   "source": [
    "len(card_names) # should be 343 = 275 (Strixhaven) + 63 (Mystical Archive) + 5 (Basic Land)"
   ]
  },
  {
   "cell_type": "code",
   "execution_count": 8,
   "metadata": {},
   "outputs": [],
   "source": [
    "# Fetch card details from scryfall\n",
    "try:\n",
    "    card_details_df = pd.read_csv(\"card_details.csv\")\n",
    "except FileNotFoundError: \n",
    "\n",
    "    card_details_list = []\n",
    "\n",
    "    for name in card_names:\n",
    "        time.sleep(0.1)\n",
    "        scryfall_result = requests.get(f\"https://api.scryfall.com/cards/named?exact={name}\").json()\n",
    "        card_details = {}\n",
    "        card_details['name'] = name\n",
    "        card_details['rarity'] = scryfall_result['rarity']\n",
    "        if 'oracle_text' in scryfall_result and 'learn' in scryfall_result['oracle_text'].lower():\n",
    "            card_details['is_learn'] = True \n",
    "        else:\n",
    "            card_details['is_learn'] = False\n",
    "        if 'lesson' in scryfall_result['type_line'].lower():\n",
    "            card_details['is_lesson'] = True \n",
    "        else:\n",
    "            card_details['is_lesson'] = False\n",
    "        card_details_list.append(card_details)\n",
    "\n",
    "    card_details_df = pd.DataFrame.from_dict(card_details_list)\n",
    "    card_details_df.to_csv(\"card_details.csv\", index=False)"
   ]
  },
  {
   "cell_type": "code",
   "execution_count": 9,
   "metadata": {},
   "outputs": [
    {
     "data": {
      "text/html": [
       "<div>\n",
       "<style scoped>\n",
       "    .dataframe tbody tr th:only-of-type {\n",
       "        vertical-align: middle;\n",
       "    }\n",
       "\n",
       "    .dataframe tbody tr th {\n",
       "        vertical-align: top;\n",
       "    }\n",
       "\n",
       "    .dataframe thead th {\n",
       "        text-align: right;\n",
       "    }\n",
       "</style>\n",
       "<table border=\"1\" class=\"dataframe\">\n",
       "  <thead>\n",
       "    <tr style=\"text-align: right;\">\n",
       "      <th></th>\n",
       "      <th>is_learn</th>\n",
       "      <th>is_lesson</th>\n",
       "      <th>name</th>\n",
       "      <th>rarity</th>\n",
       "    </tr>\n",
       "  </thead>\n",
       "  <tbody>\n",
       "    <tr>\n",
       "      <th>0</th>\n",
       "      <td>False</td>\n",
       "      <td>False</td>\n",
       "      <td>Abundant Harvest</td>\n",
       "      <td>rare</td>\n",
       "    </tr>\n",
       "    <tr>\n",
       "      <th>1</th>\n",
       "      <td>True</td>\n",
       "      <td>False</td>\n",
       "      <td>Academic Dispute</td>\n",
       "      <td>uncommon</td>\n",
       "    </tr>\n",
       "    <tr>\n",
       "      <th>2</th>\n",
       "      <td>False</td>\n",
       "      <td>True</td>\n",
       "      <td>Academic Probation</td>\n",
       "      <td>rare</td>\n",
       "    </tr>\n",
       "    <tr>\n",
       "      <th>3</th>\n",
       "      <td>False</td>\n",
       "      <td>False</td>\n",
       "      <td>Access Tunnel</td>\n",
       "      <td>uncommon</td>\n",
       "    </tr>\n",
       "    <tr>\n",
       "      <th>4</th>\n",
       "      <td>False</td>\n",
       "      <td>False</td>\n",
       "      <td>Accomplished Alchemist</td>\n",
       "      <td>rare</td>\n",
       "    </tr>\n",
       "    <tr>\n",
       "      <th>5</th>\n",
       "      <td>False</td>\n",
       "      <td>False</td>\n",
       "      <td>Adventurous Impulse</td>\n",
       "      <td>common</td>\n",
       "    </tr>\n",
       "    <tr>\n",
       "      <th>6</th>\n",
       "      <td>False</td>\n",
       "      <td>False</td>\n",
       "      <td>Aether Helix</td>\n",
       "      <td>uncommon</td>\n",
       "    </tr>\n",
       "    <tr>\n",
       "      <th>7</th>\n",
       "      <td>False</td>\n",
       "      <td>False</td>\n",
       "      <td>Ageless Guardian</td>\n",
       "      <td>common</td>\n",
       "    </tr>\n",
       "    <tr>\n",
       "      <th>8</th>\n",
       "      <td>False</td>\n",
       "      <td>False</td>\n",
       "      <td>Agonizing Remorse</td>\n",
       "      <td>uncommon</td>\n",
       "    </tr>\n",
       "    <tr>\n",
       "      <th>9</th>\n",
       "      <td>False</td>\n",
       "      <td>False</td>\n",
       "      <td>Approach of the Second Sun</td>\n",
       "      <td>rare</td>\n",
       "    </tr>\n",
       "  </tbody>\n",
       "</table>\n",
       "</div>"
      ],
      "text/plain": [
       "   is_learn  is_lesson                        name    rarity\n",
       "0     False      False            Abundant Harvest      rare\n",
       "1      True      False            Academic Dispute  uncommon\n",
       "2     False       True          Academic Probation      rare\n",
       "3     False      False               Access Tunnel  uncommon\n",
       "4     False      False      Accomplished Alchemist      rare\n",
       "5     False      False         Adventurous Impulse    common\n",
       "6     False      False                Aether Helix  uncommon\n",
       "7     False      False            Ageless Guardian    common\n",
       "8     False      False           Agonizing Remorse  uncommon\n",
       "9     False      False  Approach of the Second Sun      rare"
      ]
     },
     "execution_count": 9,
     "metadata": {},
     "output_type": "execute_result"
    }
   ],
   "source": [
    "card_details_df.head(n=10)"
   ]
  },
  {
   "cell_type": "code",
   "execution_count": 10,
   "metadata": {},
   "outputs": [
    {
     "data": {
      "text/plain": [
       "20"
      ]
     },
     "execution_count": 10,
     "metadata": {},
     "output_type": "execute_result"
    }
   ],
   "source": [
    "card_details_df['is_lesson'].sum() # should be 20 lesson cards"
   ]
  },
  {
   "cell_type": "code",
   "execution_count": 11,
   "metadata": {},
   "outputs": [],
   "source": [
    "lesson_names = list(card_details_df[card_details_df[\"is_lesson\"]][\"name\"])"
   ]
  },
  {
   "cell_type": "code",
   "execution_count": 12,
   "metadata": {},
   "outputs": [
    {
     "data": {
      "text/plain": [
       "['Academic Probation',\n",
       " 'Basic Conjuration',\n",
       " 'Confront the Past',\n",
       " 'Containment Breach',\n",
       " 'Elemental Summoning',\n",
       " 'Environmental Sciences',\n",
       " 'Expanded Anatomy',\n",
       " 'Fractal Summoning',\n",
       " 'Illuminate History',\n",
       " 'Inkling Summoning',\n",
       " 'Introduction to Annihilation',\n",
       " 'Introduction to Prophecy',\n",
       " 'Mascot Exhibition',\n",
       " 'Mercurial Transformation',\n",
       " 'Necrotic Fumes',\n",
       " 'Pest Summoning',\n",
       " 'Reduce to Memory',\n",
       " 'Spirit Summoning',\n",
       " 'Start from Scratch',\n",
       " 'Teachings of the Archaics']"
      ]
     },
     "execution_count": 12,
     "metadata": {},
     "output_type": "execute_result"
    }
   ],
   "source": [
    "lesson_names"
   ]
  },
  {
   "cell_type": "code",
   "execution_count": 13,
   "metadata": {},
   "outputs": [],
   "source": [
    "# create a new df showing whether each lesson was available in the sideboard or not\n",
    "\n",
    "new_columns = [raw_data[\"won\"]]\n",
    "for lesson_name in lesson_names:\n",
    "    col = raw_data[f\"sideboard_{lesson_name}\"] > 0\n",
    "    new_columns.append(col)\n",
    "    \n",
    "lesson_df = pd.concat(new_columns, axis=1)"
   ]
  },
  {
   "cell_type": "code",
   "execution_count": 14,
   "metadata": {},
   "outputs": [
    {
     "data": {
      "text/html": [
       "<div>\n",
       "<style scoped>\n",
       "    .dataframe tbody tr th:only-of-type {\n",
       "        vertical-align: middle;\n",
       "    }\n",
       "\n",
       "    .dataframe tbody tr th {\n",
       "        vertical-align: top;\n",
       "    }\n",
       "\n",
       "    .dataframe thead th {\n",
       "        text-align: right;\n",
       "    }\n",
       "</style>\n",
       "<table border=\"1\" class=\"dataframe\">\n",
       "  <thead>\n",
       "    <tr style=\"text-align: right;\">\n",
       "      <th></th>\n",
       "      <th>won</th>\n",
       "      <th>sideboard_Academic Probation</th>\n",
       "      <th>sideboard_Basic Conjuration</th>\n",
       "      <th>sideboard_Confront the Past</th>\n",
       "      <th>sideboard_Containment Breach</th>\n",
       "      <th>sideboard_Elemental Summoning</th>\n",
       "      <th>sideboard_Environmental Sciences</th>\n",
       "      <th>sideboard_Expanded Anatomy</th>\n",
       "      <th>sideboard_Fractal Summoning</th>\n",
       "      <th>sideboard_Illuminate History</th>\n",
       "      <th>...</th>\n",
       "      <th>sideboard_Introduction to Annihilation</th>\n",
       "      <th>sideboard_Introduction to Prophecy</th>\n",
       "      <th>sideboard_Mascot Exhibition</th>\n",
       "      <th>sideboard_Mercurial Transformation</th>\n",
       "      <th>sideboard_Necrotic Fumes</th>\n",
       "      <th>sideboard_Pest Summoning</th>\n",
       "      <th>sideboard_Reduce to Memory</th>\n",
       "      <th>sideboard_Spirit Summoning</th>\n",
       "      <th>sideboard_Start from Scratch</th>\n",
       "      <th>sideboard_Teachings of the Archaics</th>\n",
       "    </tr>\n",
       "  </thead>\n",
       "  <tbody>\n",
       "    <tr>\n",
       "      <th>0</th>\n",
       "      <td>False</td>\n",
       "      <td>False</td>\n",
       "      <td>False</td>\n",
       "      <td>False</td>\n",
       "      <td>False</td>\n",
       "      <td>False</td>\n",
       "      <td>False</td>\n",
       "      <td>True</td>\n",
       "      <td>False</td>\n",
       "      <td>False</td>\n",
       "      <td>...</td>\n",
       "      <td>True</td>\n",
       "      <td>True</td>\n",
       "      <td>False</td>\n",
       "      <td>False</td>\n",
       "      <td>False</td>\n",
       "      <td>True</td>\n",
       "      <td>False</td>\n",
       "      <td>False</td>\n",
       "      <td>True</td>\n",
       "      <td>False</td>\n",
       "    </tr>\n",
       "    <tr>\n",
       "      <th>1</th>\n",
       "      <td>False</td>\n",
       "      <td>False</td>\n",
       "      <td>False</td>\n",
       "      <td>False</td>\n",
       "      <td>False</td>\n",
       "      <td>False</td>\n",
       "      <td>False</td>\n",
       "      <td>True</td>\n",
       "      <td>False</td>\n",
       "      <td>False</td>\n",
       "      <td>...</td>\n",
       "      <td>True</td>\n",
       "      <td>True</td>\n",
       "      <td>False</td>\n",
       "      <td>False</td>\n",
       "      <td>False</td>\n",
       "      <td>True</td>\n",
       "      <td>False</td>\n",
       "      <td>False</td>\n",
       "      <td>True</td>\n",
       "      <td>False</td>\n",
       "    </tr>\n",
       "    <tr>\n",
       "      <th>2</th>\n",
       "      <td>True</td>\n",
       "      <td>False</td>\n",
       "      <td>False</td>\n",
       "      <td>False</td>\n",
       "      <td>False</td>\n",
       "      <td>True</td>\n",
       "      <td>True</td>\n",
       "      <td>True</td>\n",
       "      <td>False</td>\n",
       "      <td>False</td>\n",
       "      <td>...</td>\n",
       "      <td>True</td>\n",
       "      <td>True</td>\n",
       "      <td>False</td>\n",
       "      <td>False</td>\n",
       "      <td>False</td>\n",
       "      <td>False</td>\n",
       "      <td>False</td>\n",
       "      <td>False</td>\n",
       "      <td>False</td>\n",
       "      <td>False</td>\n",
       "    </tr>\n",
       "    <tr>\n",
       "      <th>3</th>\n",
       "      <td>True</td>\n",
       "      <td>False</td>\n",
       "      <td>False</td>\n",
       "      <td>False</td>\n",
       "      <td>False</td>\n",
       "      <td>True</td>\n",
       "      <td>True</td>\n",
       "      <td>True</td>\n",
       "      <td>False</td>\n",
       "      <td>False</td>\n",
       "      <td>...</td>\n",
       "      <td>True</td>\n",
       "      <td>True</td>\n",
       "      <td>False</td>\n",
       "      <td>False</td>\n",
       "      <td>False</td>\n",
       "      <td>False</td>\n",
       "      <td>False</td>\n",
       "      <td>False</td>\n",
       "      <td>False</td>\n",
       "      <td>False</td>\n",
       "    </tr>\n",
       "    <tr>\n",
       "      <th>4</th>\n",
       "      <td>False</td>\n",
       "      <td>False</td>\n",
       "      <td>False</td>\n",
       "      <td>False</td>\n",
       "      <td>False</td>\n",
       "      <td>True</td>\n",
       "      <td>True</td>\n",
       "      <td>True</td>\n",
       "      <td>False</td>\n",
       "      <td>False</td>\n",
       "      <td>...</td>\n",
       "      <td>True</td>\n",
       "      <td>True</td>\n",
       "      <td>False</td>\n",
       "      <td>False</td>\n",
       "      <td>False</td>\n",
       "      <td>False</td>\n",
       "      <td>False</td>\n",
       "      <td>False</td>\n",
       "      <td>False</td>\n",
       "      <td>False</td>\n",
       "    </tr>\n",
       "  </tbody>\n",
       "</table>\n",
       "<p>5 rows × 21 columns</p>\n",
       "</div>"
      ],
      "text/plain": [
       "     won  sideboard_Academic Probation  sideboard_Basic Conjuration  \\\n",
       "0  False                         False                        False   \n",
       "1  False                         False                        False   \n",
       "2   True                         False                        False   \n",
       "3   True                         False                        False   \n",
       "4  False                         False                        False   \n",
       "\n",
       "   sideboard_Confront the Past  sideboard_Containment Breach  \\\n",
       "0                        False                         False   \n",
       "1                        False                         False   \n",
       "2                        False                         False   \n",
       "3                        False                         False   \n",
       "4                        False                         False   \n",
       "\n",
       "   sideboard_Elemental Summoning  sideboard_Environmental Sciences  \\\n",
       "0                          False                             False   \n",
       "1                          False                             False   \n",
       "2                           True                              True   \n",
       "3                           True                              True   \n",
       "4                           True                              True   \n",
       "\n",
       "   sideboard_Expanded Anatomy  sideboard_Fractal Summoning  \\\n",
       "0                        True                        False   \n",
       "1                        True                        False   \n",
       "2                        True                        False   \n",
       "3                        True                        False   \n",
       "4                        True                        False   \n",
       "\n",
       "   sideboard_Illuminate History                 ...                   \\\n",
       "0                         False                 ...                    \n",
       "1                         False                 ...                    \n",
       "2                         False                 ...                    \n",
       "3                         False                 ...                    \n",
       "4                         False                 ...                    \n",
       "\n",
       "   sideboard_Introduction to Annihilation  sideboard_Introduction to Prophecy  \\\n",
       "0                                    True                                True   \n",
       "1                                    True                                True   \n",
       "2                                    True                                True   \n",
       "3                                    True                                True   \n",
       "4                                    True                                True   \n",
       "\n",
       "   sideboard_Mascot Exhibition  sideboard_Mercurial Transformation  \\\n",
       "0                        False                               False   \n",
       "1                        False                               False   \n",
       "2                        False                               False   \n",
       "3                        False                               False   \n",
       "4                        False                               False   \n",
       "\n",
       "   sideboard_Necrotic Fumes  sideboard_Pest Summoning  \\\n",
       "0                     False                      True   \n",
       "1                     False                      True   \n",
       "2                     False                     False   \n",
       "3                     False                     False   \n",
       "4                     False                     False   \n",
       "\n",
       "   sideboard_Reduce to Memory  sideboard_Spirit Summoning  \\\n",
       "0                       False                       False   \n",
       "1                       False                       False   \n",
       "2                       False                       False   \n",
       "3                       False                       False   \n",
       "4                       False                       False   \n",
       "\n",
       "   sideboard_Start from Scratch  sideboard_Teachings of the Archaics  \n",
       "0                          True                                False  \n",
       "1                          True                                False  \n",
       "2                         False                                False  \n",
       "3                         False                                False  \n",
       "4                         False                                False  \n",
       "\n",
       "[5 rows x 21 columns]"
      ]
     },
     "execution_count": 14,
     "metadata": {},
     "output_type": "execute_result"
    }
   ],
   "source": [
    "lesson_df.head()"
   ]
  },
  {
   "cell_type": "code",
   "execution_count": 25,
   "metadata": {},
   "outputs": [],
   "source": [
    "diffs = {}\n",
    "for lesson_name in lesson_names:\n",
    "    diff = lesson_df[lesson_df[f\"sideboard_{lesson_name}\"] == True][\"won\"].mean() - \\\n",
    "           lesson_df[lesson_df[f\"sideboard_{lesson_name}\"] == False][\"won\"].mean()\n",
    "    diffs[lesson_name] = diff"
   ]
  },
  {
   "cell_type": "code",
   "execution_count": 28,
   "metadata": {},
   "outputs": [],
   "source": [
    "winrate_diffs = pd.Series(diffs).sort_values(ascending=False)"
   ]
  },
  {
   "cell_type": "code",
   "execution_count": 29,
   "metadata": {},
   "outputs": [
    {
     "data": {
      "text/plain": [
       "Text(0,0.5,'Winrate Delta')"
      ]
     },
     "execution_count": 29,
     "metadata": {},
     "output_type": "execute_result"
    },
    {
     "data": {
      "image/png": "[encoded data removed]",
      "text/plain": [
       "<matplotlib.figure.Figure at 0x7f5c137755f8>"
      ]
     },
     "metadata": {},
     "output_type": "display_data"
    }
   ],
   "source": [
    "ax = winrate_diffs.plot.bar(title=\"Value of Opening each Lesson\")\n",
    "ax.set_ylabel(\"Winrate Delta\")"
   ]
  },
  {
   "cell_type": "code",
   "execution_count": 34,
   "metadata": {},
   "outputs": [
    {
     "data": {
      "text/plain": [
       "0.19928717522933923"
      ]
     },
     "execution_count": 34,
     "metadata": {},
     "output_type": "execute_result"
    }
   ],
   "source": [
    "lesson_df[\"sideboard_Containment Breach\"].mean()"
   ]
  },
  {
   "cell_type": "code",
   "execution_count": 44,
   "metadata": {},
   "outputs": [],
   "source": [
    "diffs = {}\n",
    "for i in range(100):\n",
    "    random_sample = lesson_df.sample(frac=0.2)\n",
    "    complement = lesson_df.drop(random_sample.index)\n",
    "    diffs[i] = random_sample[\"won\"].mean() - complement[\"won\"].mean()\n",
    "    \n",
    "winrate_diffs = pd.Series(diffs).sort_values(ascending=False)"
   ]
  },
  {
   "cell_type": "code",
   "execution_count": 45,
   "metadata": {},
   "outputs": [
    {
     "data": {
      "text/plain": [
       "(23    0.014139\n",
       " 34    0.012494\n",
       " 13    0.012114\n",
       " 87    0.011355\n",
       " 19    0.011228\n",
       " dtype: float64, 75   -0.009403\n",
       " 51   -0.010036\n",
       " 94   -0.010162\n",
       " 84   -0.013073\n",
       " 1    -0.013453\n",
       " dtype: float64)"
      ]
     },
     "execution_count": 45,
     "metadata": {},
     "output_type": "execute_result"
    }
   ],
   "source": [
    "winrate_diffs[:5], winrate_diffs[-5:]"
   ]
  },
  {
   "cell_type": "code",
   "execution_count": null,
   "metadata": {},
   "outputs": [],
   "source": []
  }
 ],
 "metadata": {
  "kernelspec": {
   "display_name": "Python 3",
   "language": "python",
   "name": "python3"
  },
  "language_info": {
   "codemirror_mode": {
    "name": "ipython",
    "version": 3
   },
   "file_extension": ".py",
   "mimetype": "text/x-python",
   "name": "python",
   "nbconvert_exporter": "python",
   "pygments_lexer": "ipython3",
   "version": "3.6.9"
  }
 },
 "nbformat": 4,
 "nbformat_minor": 2
}
